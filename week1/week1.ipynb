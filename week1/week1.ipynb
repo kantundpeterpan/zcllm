{
 "cells": [
  {
   "cell_type": "code",
   "execution_count": 1,
   "metadata": {},
   "outputs": [],
   "source": [
    "import openai"
   ]
  },
  {
   "cell_type": "code",
   "execution_count": 2,
   "metadata": {},
   "outputs": [],
   "source": [
    "from openai import OpenAI"
   ]
  },
  {
   "cell_type": "code",
   "execution_count": 4,
   "metadata": {},
   "outputs": [],
   "source": [
    "import os"
   ]
  },
  {
   "cell_type": "code",
   "execution_count": 10,
   "metadata": {},
   "outputs": [],
   "source": [
    "with open(\"/home/kantundpeterpan/projects/llm_api_keys/OPENAI_API_KEY\", 'r') as f:\n",
    "    client = OpenAI(api_key=f.read().strip())"
   ]
  },
  {
   "cell_type": "code",
   "execution_count": 11,
   "metadata": {},
   "outputs": [],
   "source": [
    "response = client.chat.completions.create(\n",
    "    model = 'gpt-4o',\n",
    "    messages = [\n",
    "        {'role':'user', 'content':'is it too late to join the course ?'}\n",
    "    ]\n",
    ")"
   ]
  },
  {
   "cell_type": "code",
   "execution_count": 15,
   "metadata": {},
   "outputs": [
    {
     "name": "stdout",
     "output_type": "stream",
     "text": [
      "To determine whether it's too late to join a specific course, you'll need to consider a few factors:\n",
      "\n",
      "1. **Enrollment Deadlines:** Check the course's website or contact the institution offering the course to find out about enrollment deadlines. Deadlines can vary widely depending on the institution and the time of year.\n",
      "\n",
      "2. **Course Start Date:** Even if enrollment is technically still open, joining after the course has started might make it challenging to catch up on missed material.\n",
      "\n",
      "3. **Course Format:** Some courses, especially online ones, may allow for flexible start times and self-paced learning. In such cases, it might not be too late to join.\n",
      "\n",
      "4. **Availability:** Some courses have limited seats, so they may fill up quickly. Ensure there is still availability if you are considering enrolling.\n",
      "\n",
      "5. **Instructor Policies:** Contact the instructor or course administrator to see if they allow late enrollment and if they can provide resources for catching up if necessary.\n",
      "\n",
      "6. **Prerequisites:** Make sure you meet any prerequisites for the course, as these can impact your ability to successfully participate.\n",
      "\n",
      "If you've missed the official deadlines but are still interested, it's always a good idea to reach out to the institution or instructor directly. They might be able to accommodate you or suggest alternative options.\n"
     ]
    }
   ],
   "source": [
    "print(\n",
    "    response.choices[0].message.content\n",
    ")"
   ]
  }
 ],
 "metadata": {
  "kernelspec": {
   "display_name": "zcllm",
   "language": "python",
   "name": "zcllm"
  },
  "language_info": {
   "codemirror_mode": {
    "name": "ipython",
    "version": 3
   },
   "file_extension": ".py",
   "mimetype": "text/x-python",
   "name": "python",
   "nbconvert_exporter": "python",
   "pygments_lexer": "ipython3",
   "version": "3.13.2"
  }
 },
 "nbformat": 4,
 "nbformat_minor": 2
}
